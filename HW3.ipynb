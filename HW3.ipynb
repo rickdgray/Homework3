{
 "cells": [
  {
   "cell_type": "code",
   "execution_count": 10,
   "metadata": {
    "tags": []
   },
   "outputs": [
    {
     "data": {
      "text/plain": [
       "GridSearchCV(estimator=SVC(), n_jobs=-1,\n",
       "             param_grid={&#39;C&#39;: [0.1, 1, 10, 100, 1000],\n",
       "                         &#39;gamma&#39;: [1, 0.1, 0.01, 0.001, 0.0001, &#39;scale&#39;,\n",
       "                                   &#39;auto&#39;],\n",
       "                         &#39;kernel&#39;: [&#39;linear&#39;]})"
      ]
     },
     "execution_count": 10,
     "metadata": {},
     "output_type": "execute_result"
    },
    {
     "name": "stdout",
     "output_type": "stream",
     "text": [
      "{&#39;C&#39;: 100, &#39;gamma&#39;: 1, &#39;kernel&#39;: &#39;linear&#39;}\n"
     ]
    }
   ],
   "source": [
    "# Show all output, not just last calculation\n",
    "from IPython.core.interactiveshell import InteractiveShell\n",
    "InteractiveShell.ast_node_interactivity = 'all'\n",
    "\n",
    "import pandas as pd\n",
    "from sklearn.model_selection import GridSearchCV\n",
    "from sklearn.svm import SVC\n",
    "\n",
    "#get and format data\n",
    "data = pd.read_csv('SVM_credit_data.txt', delimiter=' ', names=range(0, 25), index_col=False)\n",
    "classes = data[24]\n",
    "samples = data.drop(24, 1)\n",
    "\n",
    "svm = SVC()\n",
    "\n",
    "Cs = [0.1, 1, 10, 100, 1000]\n",
    "gammas = [1, 0.1, 0.01, 0.001, 0.0001, 'scale', 'auto']\n",
    "kernels = ['linear']\n",
    "\n",
    "param_grid = dict(kernel=kernels, C=Cs, gamma=gammas)\n",
    "\n",
    "grid = GridSearchCV(svm, param_grid=param_grid, n_jobs=-1)\n",
    "grid.fit(samples, classes)\n",
    "\n",
    "print(grid.best_params_)"
   ]
  },
  {
   "cell_type": "code",
   "execution_count": 11,
   "metadata": {},
   "outputs": [],
   "source": [
    "# Show all output, not just last calculation\n",
    "from IPython.core.interactiveshell import InteractiveShell\n",
    "InteractiveShell.ast_node_interactivity = 'all'\n",
    "\n",
    "import pandas as pd\n",
    "from sklearn.model_selection import cross_val_score, RepeatedStratifiedKFold\n",
    "from sklearn.svm import SVC\n",
    "\n",
    "#get and format data\n",
    "data = pd.read_csv('SVM_credit_data.txt', delimiter=' ', names=range(0, 25), index_col=False)\n",
    "classes = data[24]\n",
    "samples = data.drop(24, 1)\n",
    "\n",
    "svm = SVC(C=100, kernel='linear', gamma=1)\n",
    "cv = RepeatedStratifiedKFold(10, 10)\n",
    "\n",
    "scores = cross_val_score(svm, samples, classes, cv=cv, n_jobs=-1)\n",
    "print(\"Accuracy: %0.2f (+/- %0.2f)\" % (scores.mean(), scores.std()))"
   ]
  },
  {
   "cell_type": "code",
   "execution_count": null,
   "metadata": {},
   "outputs": [],
   "source": []
  }
 ],
 "metadata": {
  "kernelspec": {
   "display_name": "Python 3.8.3 64-bit ('base': conda)",
   "metadata": {
    "interpreter": {
     "hash": "0a00daea54df63122bdd9266c5c71bd07b7ae872a047e44421653f576f5ed729"
    }
   },
   "name": "Python 3.8.3 64-bit ('base': conda)"
  },
  "language_info": {
   "codemirror_mode": {
    "name": "ipython",
    "version": 3
   },
   "file_extension": ".py",
   "mimetype": "text/x-python",
   "name": "python",
   "nbconvert_exporter": "python",
   "pygments_lexer": "ipython3",
   "version": "3.8.3-final"
  }
 },
 "nbformat": 4,
 "nbformat_minor": 2
}
