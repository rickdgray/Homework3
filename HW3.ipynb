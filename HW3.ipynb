{
 "metadata": {
  "language_info": {
   "codemirror_mode": {
    "name": "ipython",
    "version": 3
   },
   "file_extension": ".py",
   "mimetype": "text/x-python",
   "name": "python",
   "nbconvert_exporter": "python",
   "pygments_lexer": "ipython3",
   "version": "3.8.3-final"
  },
  "orig_nbformat": 2,
  "kernelspec": {
   "name": "python3",
   "display_name": "Python 3",
   "metadata": {
    "interpreter": {
     "hash": "0a00daea54df63122bdd9266c5c71bd07b7ae872a047e44421653f576f5ed729"
    }
   }
  }
 },
 "nbformat": 4,
 "nbformat_minor": 2,
 "cells": [
  {
   "cell_type": "code",
   "execution_count": 10,
   "metadata": {
    "tags": []
   },
   "outputs": [
    {
     "output_type": "execute_result",
     "data": {
      "text/plain": "GridSearchCV(estimator=SVC(), n_jobs=-1,\n             param_grid={&#39;C&#39;: [0.1, 1, 10, 100, 1000],\n                         &#39;gamma&#39;: [1, 0.1, 0.01, 0.001, 0.0001, &#39;scale&#39;,\n                                   &#39;auto&#39;],\n                         &#39;kernel&#39;: [&#39;linear&#39;]})"
     },
     "metadata": {},
     "execution_count": 10
    },
    {
     "output_type": "stream",
     "name": "stdout",
     "text": "{&#39;C&#39;: 100, &#39;gamma&#39;: 1, &#39;kernel&#39;: &#39;linear&#39;}\n"
    }
   ],
   "source": [
    "# Show all output, not just last calculation\n",
    "from IPython.core.interactiveshell import InteractiveShell\n",
    "InteractiveShell.ast_node_interactivity = 'all'\n",
    "\n",
    "import pandas as pd\n",
    "from sklearn.model_selection import GridSearchCV\n",
    "from sklearn.svm import SVC\n",
    "\n",
    "#get and format data\n",
    "os.chdir('/home/rdgray/HW3')\n",
    "data = pd.read_csv('SVM_credit_data.txt', delimiter=' ', names=range(0, 25), index_col=False)\n",
    "classes = data[24]\n",
    "samples = data.drop(24, 1)\n",
    "\n",
    "svm = SVC()\n",
    "\n",
    "Cs = [0.1, 1, 10, 100, 1000]\n",
    "gammas = [1, 0.1, 0.01, 0.001, 0.0001, 'scale', 'auto']\n",
    "kernels = ['linear']\n",
    "\n",
    "param_grid = dict(kernel=kernels, C=Cs, gamma=gammas)\n",
    "\n",
    "grid = GridSearchCV(svm, param_grid=param_grid, n_jobs=-1)\n",
    "grid.fit(samples, classes)\n",
    "\n",
    "print(grid.best_params_)"
   ]
  },
  {
   "cell_type": "code",
   "execution_count": 12,
   "metadata": {
    "tags": []
   },
   "outputs": [
    {
     "output_type": "stream",
     "name": "stdout",
     "text": "Validation Accuracy: 0.64 (+/- 0.08)\nTesting Accuracy: 0.78\n"
    }
   ],
   "source": [
    "# Show all output, not just last calculation\n",
    "from IPython.core.interactiveshell import InteractiveShell\n",
    "InteractiveShell.ast_node_interactivity = 'all'\n",
    "\n",
    "import pandas as pd\n",
    "from sklearn.model_selection import train_test_split\n",
    "from sklearn.svm import SVC\n",
    "\n",
    "#get and format data\n",
    "os.chdir('/home/rdgray/HW3')\n",
    "data = pd.read_csv('SVM_credit_data.txt', delimiter=' ', names=range(0, 25), index_col=False)\n",
    "classes = data[24]\n",
    "samples = data.drop(24, 1)\n",
    "\n",
    "#break into train, validate, and test\n",
    "nontesting_samples, testing_samples, nontesting_classes, testing_classes = train_test_split(samples, classes, test_size=0.2)\n",
    "training_samples, validation_samples, training_classes, validation_classes = train_test_split(nontesting_samples, nontesting_classes, test_size=0.125)\n",
    "\n",
    "#train\n",
    "svm = SVC(C=100, kernel='linear', gamma=1).fit(training_samples, training_classes)\n",
    "\n",
    "#validate\n",
    "val_scores = cross_val_score(svm, validation_samples, validation_classes, n_jobs=-1)\n",
    "print(\"Validation Accuracy: %0.2f (+/- %0.2f)\" % (val_scores.mean(), val_scores.std()))\n",
    "#test\n",
    "test_score = svm.score(testing_samples, testing_classes)\n",
    "print(\"Testing Accuracy: %0.2f\" % test_score)"
   ]
  },
  {
   "cell_type": "code",
   "execution_count": 11,
   "metadata": {
    "tags": []
   },
   "outputs": [
    {
     "output_type": "execute_result",
     "data": {
      "text/plain": "GridSearchCV(estimator=SVC(), n_jobs=-1,\n             param_grid={&#39;C&#39;: [0.1, 1, 10, 100, 1000],\n                         &#39;gamma&#39;: [1, 0.1, 0.01, 0.001, 0.0001, &#39;scale&#39;,\n                                   &#39;auto&#39;],\n                         &#39;kernel&#39;: [&#39;rbf&#39;]})"
     },
     "metadata": {},
     "execution_count": 11
    },
    {
     "output_type": "stream",
     "name": "stdout",
     "text": "{&#39;C&#39;: 1000, &#39;gamma&#39;: 0.0001, &#39;kernel&#39;: &#39;rbf&#39;}\n"
    }
   ],
   "source": [
    "# Show all output, not just last calculation\n",
    "from IPython.core.interactiveshell import InteractiveShell\n",
    "InteractiveShell.ast_node_interactivity = 'all'\n",
    "\n",
    "import pandas as pd\n",
    "from sklearn.model_selection import GridSearchCV\n",
    "from sklearn.svm import SVC\n",
    "\n",
    "#get and format data\n",
    "os.chdir('/home/rdgray/HW3')\n",
    "data = pd.read_csv('SVM_credit_data.txt', delimiter=' ', names=range(0, 25), index_col=False)\n",
    "classes = data[24]\n",
    "samples = data.drop(24, 1)\n",
    "\n",
    "svm = SVC()\n",
    "\n",
    "Cs = [0.1, 1, 10, 100, 1000]\n",
    "gammas = [1, 0.1, 0.01, 0.001, 0.0001, 'scale', 'auto']\n",
    "kernels = ['rbf']\n",
    "\n",
    "param_grid = dict(kernel=kernels, C=Cs, gamma=gammas)\n",
    "\n",
    "grid = GridSearchCV(svm, param_grid=param_grid, n_jobs=-1)\n",
    "grid.fit(samples, classes)\n",
    "\n",
    "print(grid.best_params_)"
   ]
  },
  {
   "cell_type": "code",
   "execution_count": 13,
   "metadata": {
    "tags": []
   },
   "outputs": [
    {
     "output_type": "stream",
     "name": "stdout",
     "text": "Validation Accuracy: 0.66 (+/- 0.09)\nTesting Accuracy: 0.71\n"
    }
   ],
   "source": [
    "# Show all output, not just last calculation\n",
    "from IPython.core.interactiveshell import InteractiveShell\n",
    "InteractiveShell.ast_node_interactivity = 'all'\n",
    "\n",
    "import pandas as pd\n",
    "from sklearn.model_selection import train_test_split\n",
    "from sklearn.svm import SVC\n",
    "\n",
    "#get and format data\n",
    "os.chdir('/home/rdgray/HW3')\n",
    "data = pd.read_csv('SVM_credit_data.txt', delimiter=' ', names=range(0, 25), index_col=False)\n",
    "classes = data[24]\n",
    "samples = data.drop(24, 1)\n",
    "\n",
    "#break into train, validate, and test\n",
    "nontesting_samples, testing_samples, nontesting_classes, testing_classes = train_test_split(samples, classes, test_size=0.2)\n",
    "training_samples, validation_samples, training_classes, validation_classes = train_test_split(nontesting_samples, nontesting_classes, test_size=0.125)\n",
    "\n",
    "#train\n",
    "svm = SVC(C=1000, kernel='rbf', gamma=0.0001).fit(training_samples, training_classes)\n",
    "\n",
    "#validate\n",
    "val_scores = cross_val_score(svm, validation_samples, validation_classes, n_jobs=-1)\n",
    "print(\"Validation Accuracy: %0.2f (+/- %0.2f)\" % (val_scores.mean(), val_scores.std()))\n",
    "#test\n",
    "test_score = svm.score(testing_samples, testing_classes)\n",
    "print(\"Testing Accuracy: %0.2f\" % test_score)"
   ]
  },
  {
   "cell_type": "code",
   "execution_count": 14,
   "metadata": {
    "tags": []
   },
   "outputs": [
    {
     "output_type": "execute_result",
     "data": {
      "text/plain": "GridSearchCV(estimator=SVC(), n_jobs=-1,\n             param_grid={&#39;C&#39;: [0.1, 1, 10, 100, 1000],\n                         &#39;gamma&#39;: [1, 0.1, 0.01, 0.001, 0.0001, &#39;scale&#39;,\n                                   &#39;auto&#39;],\n                         &#39;kernel&#39;: [&#39;poly&#39;]})"
     },
     "metadata": {},
     "execution_count": 14
    },
    {
     "output_type": "stream",
     "name": "stdout",
     "text": "{&#39;C&#39;: 1000, &#39;gamma&#39;: &#39;scale&#39;, &#39;kernel&#39;: &#39;poly&#39;}\n"
    }
   ],
   "source": [
    "# Show all output, not just last calculation\n",
    "from IPython.core.interactiveshell import InteractiveShell\n",
    "InteractiveShell.ast_node_interactivity = 'all'\n",
    "\n",
    "import pandas as pd\n",
    "from sklearn.model_selection import GridSearchCV\n",
    "from sklearn.svm import SVC\n",
    "\n",
    "#get and format data\n",
    "os.chdir('/home/rdgray/HW3')\n",
    "data = pd.read_csv('SVM_credit_data.txt', delimiter=' ', names=range(0, 25), index_col=False)\n",
    "classes = data[24]\n",
    "samples = data.drop(24, 1)\n",
    "\n",
    "svm = SVC()\n",
    "\n",
    "Cs = [0.1, 1, 10, 100, 1000]\n",
    "gammas = [1, 0.1, 0.01, 0.001, 0.0001, 'scale', 'auto']\n",
    "kernels = ['poly']\n",
    "\n",
    "param_grid = dict(kernel=kernels, C=Cs, gamma=gammas)\n",
    "\n",
    "grid = GridSearchCV(svm, param_grid=param_grid, n_jobs=-1)\n",
    "grid.fit(samples, classes)\n",
    "\n",
    "print(grid.best_params_)"
   ]
  },
  {
   "cell_type": "code",
   "execution_count": 15,
   "metadata": {
    "tags": []
   },
   "outputs": [
    {
     "output_type": "stream",
     "name": "stdout",
     "text": "Validation Accuracy: 0.69 (+/- 0.07)\nTesting Accuracy: 0.72\n"
    }
   ],
   "source": [
    "# Show all output, not just last calculation\n",
    "from IPython.core.interactiveshell import InteractiveShell\n",
    "InteractiveShell.ast_node_interactivity = 'all'\n",
    "\n",
    "import pandas as pd\n",
    "from sklearn.model_selection import train_test_split\n",
    "from sklearn.svm import SVC\n",
    "\n",
    "#get and format data\n",
    "os.chdir('/home/rdgray/HW3')\n",
    "data = pd.read_csv('SVM_credit_data.txt', delimiter=' ', names=range(0, 25), index_col=False)\n",
    "classes = data[24]\n",
    "samples = data.drop(24, 1)\n",
    "\n",
    "#break into train, validate, and test\n",
    "nontesting_samples, testing_samples, nontesting_classes, testing_classes = train_test_split(samples, classes, test_size=0.2)\n",
    "training_samples, validation_samples, training_classes, validation_classes = train_test_split(nontesting_samples, nontesting_classes, test_size=0.125)\n",
    "\n",
    "#train\n",
    "svm = SVC(C=1000, kernel='poly', gamma='scale').fit(training_samples, training_classes)\n",
    "\n",
    "#validate\n",
    "val_scores = cross_val_score(svm, validation_samples, validation_classes, n_jobs=-1)\n",
    "print(\"Validation Accuracy: %0.2f (+/- %0.2f)\" % (val_scores.mean(), val_scores.std()))\n",
    "#test\n",
    "test_score = svm.score(testing_samples, testing_classes)\n",
    "print(\"Testing Accuracy: %0.2f\" % test_score)"
   ]
  },
  {
   "cell_type": "code",
   "execution_count": null,
   "metadata": {},
   "outputs": [],
   "source": []
  }
 ]
}