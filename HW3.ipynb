{
 "metadata": {
  "language_info": {
   "codemirror_mode": {
    "name": "ipython",
    "version": 3
   },
   "file_extension": ".py",
   "mimetype": "text/x-python",
   "name": "python",
   "nbconvert_exporter": "python",
   "pygments_lexer": "ipython3",
   "version": "3.8.3-final"
  },
  "orig_nbformat": 2,
  "kernelspec": {
   "name": "python3",
   "display_name": "Python 3",
   "metadata": {
    "interpreter": {
     "hash": "0a00daea54df63122bdd9266c5c71bd07b7ae872a047e44421653f576f5ed729"
    }
   }
  }
 },
 "nbformat": 4,
 "nbformat_minor": 2,
 "cells": [
  {
   "cell_type": "code",
   "execution_count": 10,
   "metadata": {
    "tags": []
   },
   "outputs": [
    {
     "output_type": "execute_result",
     "data": {
      "text/plain": "GridSearchCV(estimator=SVC(), n_jobs=-1,\n             param_grid={&#39;C&#39;: [0.1, 1, 10, 100, 1000],\n                         &#39;gamma&#39;: [1, 0.1, 0.01, 0.001, 0.0001, &#39;scale&#39;,\n                                   &#39;auto&#39;],\n                         &#39;kernel&#39;: [&#39;linear&#39;]})"
     },
     "metadata": {},
     "execution_count": 10
    },
    {
     "output_type": "stream",
     "name": "stdout",
     "text": "{&#39;C&#39;: 100, &#39;gamma&#39;: 1, &#39;kernel&#39;: &#39;linear&#39;}\n"
    }
   ],
   "source": [
    "# Show all output, not just last calculation\n",
    "from IPython.core.interactiveshell import InteractiveShell\n",
    "InteractiveShell.ast_node_interactivity = 'all'\n",
    "\n",
    "import os\n",
    "import pandas as pd\n",
    "from sklearn.model_selection import GridSearchCV\n",
    "from sklearn.svm import SVC\n",
    "\n",
    "#get and format data\n",
    "os.chdir('/home/rdgray/HW3')\n",
    "data = pd.read_csv('SVM_credit_data.txt', delimiter=' ', names=range(0, 25), index_col=False)\n",
    "classes = data[24]\n",
    "samples = data.drop(24, 1)\n",
    "\n",
    "svm = SVC()\n",
    "\n",
    "Cs = [0.1, 1, 10, 100, 1000]\n",
    "gammas = [1, 0.1, 0.01, 0.001, 0.0001, 'scale', 'auto']\n",
    "kernels = ['linear']\n",
    "\n",
    "param_grid = dict(kernel=kernels, C=Cs, gamma=gammas)\n",
    "\n",
    "grid = GridSearchCV(svm, param_grid=param_grid, n_jobs=-1)\n",
    "grid.fit(samples, classes)\n",
    "\n",
    "print(grid.best_params_)"
   ]
  },
  {
   "cell_type": "code",
   "execution_count": 4,
   "metadata": {
    "tags": []
   },
   "outputs": [
    {
     "output_type": "error",
     "ename": "NameError",
     "evalue": "name &#39;cross_val_score&#39; is not defined",
     "traceback": [
      "\u001b[0;31m---------------------------------------------------------------------------\u001b[0m",
      "\u001b[0;31mNameError\u001b[0m                                 Traceback (most recent call last)",
      "\u001b[0;32m&lt;ipython-input-4-d0e141847f2d&gt;\u001b[0m in \u001b[0;36m&lt;module&gt;\u001b[0;34m\u001b[0m\n\u001b[1;32m     22\u001b[0m \u001b[0;34m\u001b[0m\u001b[0m\n\u001b[1;32m     23\u001b[0m \u001b[0;31m#validate\u001b[0m\u001b[0;34m\u001b[0m\u001b[0;34m\u001b[0m\u001b[0;34m\u001b[0m\u001b[0m\n\u001b[0;32m---&gt; 24\u001b[0;31m \u001b[0mval_scores\u001b[0m \u001b[0;34m=\u001b[0m \u001b[0mcross_val_score\u001b[0m\u001b[0;34m(\u001b[0m\u001b[0msvm\u001b[0m\u001b[0;34m,\u001b[0m \u001b[0mvalidation_samples\u001b[0m\u001b[0;34m,\u001b[0m \u001b[0mvalidation_classes\u001b[0m\u001b[0;34m,\u001b[0m \u001b[0mn_jobs\u001b[0m\u001b[0;34m=\u001b[0m\u001b[0;34m-\u001b[0m\u001b[0;36m1\u001b[0m\u001b[0;34m)\u001b[0m\u001b[0;34m\u001b[0m\u001b[0;34m\u001b[0m\u001b[0m\n\u001b[0m\u001b[1;32m     25\u001b[0m \u001b[0mprint\u001b[0m\u001b[0;34m(\u001b[0m\u001b[0;34m&quot;Validation Accuracy: %0.2f (+/- %0.2f)&quot;\u001b[0m \u001b[0;34m%\u001b[0m \u001b[0;34m(\u001b[0m\u001b[0mval_scores\u001b[0m\u001b[0;34m.\u001b[0m\u001b[0mmean\u001b[0m\u001b[0;34m(\u001b[0m\u001b[0;34m)\u001b[0m\u001b[0;34m,\u001b[0m \u001b[0mval_scores\u001b[0m\u001b[0;34m.\u001b[0m\u001b[0mstd\u001b[0m\u001b[0;34m(\u001b[0m\u001b[0;34m)\u001b[0m\u001b[0;34m)\u001b[0m\u001b[0;34m)\u001b[0m\u001b[0;34m\u001b[0m\u001b[0;34m\u001b[0m\u001b[0m\n\u001b[1;32m     26\u001b[0m \u001b[0;31m#test\u001b[0m\u001b[0;34m\u001b[0m\u001b[0;34m\u001b[0m\u001b[0;34m\u001b[0m\u001b[0m\n",
      "\u001b[0;31mNameError\u001b[0m: name &#39;cross_val_score&#39; is not defined"
     ]
    }
   ],
   "source": [
    "# Show all output, not just last calculation\n",
    "from IPython.core.interactiveshell import InteractiveShell\n",
    "InteractiveShell.ast_node_interactivity = 'all'\n",
    "\n",
    "import os\n",
    "import pandas as pd\n",
    "from sklearn.model_selection import train_test_split, cross_val_score\n",
    "from sklearn.svm import SVC\n",
    "\n",
    "#get and format data\n",
    "os.chdir('/home/rdgray/HW3')\n",
    "data = pd.read_csv('SVM_credit_data.txt', delimiter=' ', names=range(0, 25), index_col=False)\n",
    "classes = data[24]\n",
    "samples = data.drop(24, 1)\n",
    "\n",
    "#break into train, validate, and test\n",
    "nontesting_samples, testing_samples, nontesting_classes, testing_classes = train_test_split(samples, classes, test_size=0.2)\n",
    "training_samples, validation_samples, training_classes, validation_classes = train_test_split(nontesting_samples, nontesting_classes, test_size=0.125)\n",
    "\n",
    "#train\n",
    "svm = SVC(C=100, kernel='linear', gamma=1).fit(training_samples, training_classes)\n",
    "\n",
    "#validate\n",
    "val_scores = cross_val_score(svm, validation_samples, validation_classes, n_jobs=-1)\n",
    "print(\"Validation Accuracy: %0.2f (+/- %0.2f)\" % (val_scores.mean(), val_scores.std()))\n",
    "#test\n",
    "test_score = svm.score(testing_samples, testing_classes)\n",
    "print(\"Testing Accuracy: %0.2f\" % test_score)"
   ]
  },
  {
   "cell_type": "code",
   "execution_count": 11,
   "metadata": {
    "tags": []
   },
   "outputs": [
    {
     "output_type": "execute_result",
     "data": {
      "text/plain": "GridSearchCV(estimator=SVC(), n_jobs=-1,\n             param_grid={&#39;C&#39;: [0.1, 1, 10, 100, 1000],\n                         &#39;gamma&#39;: [1, 0.1, 0.01, 0.001, 0.0001, &#39;scale&#39;,\n                                   &#39;auto&#39;],\n                         &#39;kernel&#39;: [&#39;rbf&#39;]})"
     },
     "metadata": {},
     "execution_count": 11
    },
    {
     "output_type": "stream",
     "name": "stdout",
     "text": "{&#39;C&#39;: 1000, &#39;gamma&#39;: 0.0001, &#39;kernel&#39;: &#39;rbf&#39;}\n"
    }
   ],
   "source": [
    "# Show all output, not just last calculation\n",
    "from IPython.core.interactiveshell import InteractiveShell\n",
    "InteractiveShell.ast_node_interactivity = 'all'\n",
    "\n",
    "import os\n",
    "import pandas as pd\n",
    "from sklearn.model_selection import GridSearchCV\n",
    "from sklearn.svm import SVC\n",
    "\n",
    "#get and format data\n",
    "os.chdir('/home/rdgray/HW3')\n",
    "data = pd.read_csv('SVM_credit_data.txt', delimiter=' ', names=range(0, 25), index_col=False)\n",
    "classes = data[24]\n",
    "samples = data.drop(24, 1)\n",
    "\n",
    "svm = SVC()\n",
    "\n",
    "Cs = [0.1, 1, 10, 100, 1000]\n",
    "gammas = [1, 0.1, 0.01, 0.001, 0.0001, 'scale', 'auto']\n",
    "kernels = ['rbf']\n",
    "\n",
    "param_grid = dict(kernel=kernels, C=Cs, gamma=gammas)\n",
    "\n",
    "grid = GridSearchCV(svm, param_grid=param_grid, n_jobs=-1)\n",
    "grid.fit(samples, classes)\n",
    "\n",
    "print(grid.best_params_)"
   ]
  },
  {
   "cell_type": "code",
   "execution_count": 13,
   "metadata": {
    "tags": []
   },
   "outputs": [
    {
     "output_type": "stream",
     "name": "stdout",
     "text": "Validation Accuracy: 0.66 (+/- 0.09)\nTesting Accuracy: 0.71\n"
    }
   ],
   "source": [
    "# Show all output, not just last calculation\n",
    "from IPython.core.interactiveshell import InteractiveShell\n",
    "InteractiveShell.ast_node_interactivity = 'all'\n",
    "\n",
    "import os\n",
    "import pandas as pd\n",
    "from sklearn.model_selection import train_test_split, cross_val_score\n",
    "from sklearn.svm import SVC\n",
    "\n",
    "#get and format data\n",
    "os.chdir('/home/rdgray/HW3')\n",
    "data = pd.read_csv('SVM_credit_data.txt', delimiter=' ', names=range(0, 25), index_col=False)\n",
    "classes = data[24]\n",
    "samples = data.drop(24, 1)\n",
    "\n",
    "#break into train, validate, and test\n",
    "nontesting_samples, testing_samples, nontesting_classes, testing_classes = train_test_split(samples, classes, test_size=0.2)\n",
    "training_samples, validation_samples, training_classes, validation_classes = train_test_split(nontesting_samples, nontesting_classes, test_size=0.125)\n",
    "\n",
    "#train\n",
    "svm = SVC(C=1000, kernel='rbf', gamma=0.0001).fit(training_samples, training_classes)\n",
    "\n",
    "#validate\n",
    "val_scores = cross_val_score(svm, validation_samples, validation_classes, n_jobs=-1)\n",
    "print(\"Validation Accuracy: %0.2f (+/- %0.2f)\" % (val_scores.mean(), val_scores.std()))\n",
    "#test\n",
    "test_score = svm.score(testing_samples, testing_classes)\n",
    "print(\"Testing Accuracy: %0.2f\" % test_score)"
   ]
  },
  {
   "cell_type": "code",
   "execution_count": 3,
   "metadata": {
    "tags": []
   },
   "outputs": [
    {
     "output_type": "error",
     "ename": "NameError",
     "evalue": "name &#39;os&#39; is not defined",
     "traceback": [
      "\u001b[0;31m---------------------------------------------------------------------------\u001b[0m",
      "\u001b[0;31mNameError\u001b[0m                                 Traceback (most recent call last)",
      "\u001b[0;32m&lt;ipython-input-3-e6293f1f920d&gt;\u001b[0m in \u001b[0;36m&lt;module&gt;\u001b[0;34m\u001b[0m\n\u001b[1;32m      8\u001b[0m \u001b[0;34m\u001b[0m\u001b[0m\n\u001b[1;32m      9\u001b[0m \u001b[0;31m#get and format data\u001b[0m\u001b[0;34m\u001b[0m\u001b[0;34m\u001b[0m\u001b[0;34m\u001b[0m\u001b[0m\n\u001b[0;32m---&gt; 10\u001b[0;31m \u001b[0mos\u001b[0m\u001b[0;34m.\u001b[0m\u001b[0mchdir\u001b[0m\u001b[0;34m(\u001b[0m\u001b[0;34m&#39;/home/rdgray/HW3&#39;\u001b[0m\u001b[0;34m)\u001b[0m\u001b[0;34m\u001b[0m\u001b[0;34m\u001b[0m\u001b[0m\n\u001b[0m\u001b[1;32m     11\u001b[0m \u001b[0mdata\u001b[0m \u001b[0;34m=\u001b[0m \u001b[0mpd\u001b[0m\u001b[0;34m.\u001b[0m\u001b[0mread_csv\u001b[0m\u001b[0;34m(\u001b[0m\u001b[0;34m&#39;SVM_credit_data.txt&#39;\u001b[0m\u001b[0;34m,\u001b[0m \u001b[0mdelimiter\u001b[0m\u001b[0;34m=\u001b[0m\u001b[0;34m&#39; &#39;\u001b[0m\u001b[0;34m,\u001b[0m \u001b[0mnames\u001b[0m\u001b[0;34m=\u001b[0m\u001b[0mrange\u001b[0m\u001b[0;34m(\u001b[0m\u001b[0;36m0\u001b[0m\u001b[0;34m,\u001b[0m \u001b[0;36m25\u001b[0m\u001b[0;34m)\u001b[0m\u001b[0;34m,\u001b[0m \u001b[0mindex_col\u001b[0m\u001b[0;34m=\u001b[0m\u001b[0;32mFalse\u001b[0m\u001b[0;34m)\u001b[0m\u001b[0;34m\u001b[0m\u001b[0;34m\u001b[0m\u001b[0m\n\u001b[1;32m     12\u001b[0m \u001b[0mclasses\u001b[0m \u001b[0;34m=\u001b[0m \u001b[0mdata\u001b[0m\u001b[0;34m[\u001b[0m\u001b[0;36m24\u001b[0m\u001b[0;34m]\u001b[0m\u001b[0;34m\u001b[0m\u001b[0;34m\u001b[0m\u001b[0m\n",
      "\u001b[0;31mNameError\u001b[0m: name &#39;os&#39; is not defined"
     ]
    }
   ],
   "source": [
    "# Show all output, not just last calculation\n",
    "from IPython.core.interactiveshell import InteractiveShell\n",
    "InteractiveShell.ast_node_interactivity = 'all'\n",
    "\n",
    "import os\n",
    "import pandas as pd\n",
    "from sklearn.model_selection import GridSearchCV\n",
    "from sklearn.svm import SVC\n",
    "\n",
    "#get and format data\n",
    "os.chdir('/home/rdgray/HW3')\n",
    "data = pd.read_csv('SVM_credit_data.txt', delimiter=' ', names=range(0, 25), index_col=False)\n",
    "classes = data[24]\n",
    "samples = data.drop(24, 1)\n",
    "\n",
    "svm = SVC()\n",
    "\n",
    "Cs = [0.1, 1, 10, 100, 1000]\n",
    "gammas = [1, 0.1, 0.01, 0.001, 0.0001, 'scale', 'auto']\n",
    "kernels = ['poly']\n",
    "\n",
    "param_grid = dict(kernel=kernels, C=Cs, gamma=gammas)\n",
    "\n",
    "grid = GridSearchCV(svm, param_grid=param_grid, n_jobs=-1)\n",
    "grid.fit(samples, classes)\n",
    "\n",
    "print(grid.best_params_)"
   ]
  },
  {
   "cell_type": "code",
   "execution_count": 15,
   "metadata": {
    "tags": []
   },
   "outputs": [
    {
     "output_type": "stream",
     "name": "stdout",
     "text": "Validation Accuracy: 0.69 (+/- 0.07)\nTesting Accuracy: 0.72\n"
    }
   ],
   "source": [
    "# Show all output, not just last calculation\n",
    "from IPython.core.interactiveshell import InteractiveShell\n",
    "InteractiveShell.ast_node_interactivity = 'all'\n",
    "\n",
    "import os\n",
    "import pandas as pd\n",
    "from sklearn.model_selection import train_test_split, cross_val_score\n",
    "from sklearn.svm import SVC\n",
    "\n",
    "#get and format data\n",
    "os.chdir('/home/rdgray/HW3')\n",
    "data = pd.read_csv('SVM_credit_data.txt', delimiter=' ', names=range(0, 25), index_col=False)\n",
    "classes = data[24]\n",
    "samples = data.drop(24, 1)\n",
    "\n",
    "#break into train, validate, and test\n",
    "nontesting_samples, testing_samples, nontesting_classes, testing_classes = train_test_split(samples, classes, test_size=0.2)\n",
    "training_samples, validation_samples, training_classes, validation_classes = train_test_split(nontesting_samples, nontesting_classes, test_size=0.125)\n",
    "\n",
    "#train\n",
    "svm = SVC(C=1000, kernel='poly', gamma='scale').fit(training_samples, training_classes)\n",
    "\n",
    "#validate\n",
    "val_scores = cross_val_score(svm, validation_samples, validation_classes, n_jobs=-1)\n",
    "print(\"Validation Accuracy: %0.2f (+/- %0.2f)\" % (val_scores.mean(), val_scores.std()))\n",
    "#test\n",
    "test_score = svm.score(testing_samples, testing_classes)\n",
    "print(\"Testing Accuracy: %0.2f\" % test_score)"
   ]
  },
  {
   "cell_type": "code",
   "execution_count": null,
   "metadata": {},
   "outputs": [],
   "source": []
  }
 ]
}